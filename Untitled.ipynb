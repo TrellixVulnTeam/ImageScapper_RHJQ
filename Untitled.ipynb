{
 "cells": [
  {
   "cell_type": "code",
   "execution_count": 1,
   "id": "f6442acc",
   "metadata": {},
   "outputs": [],
   "source": [
    "import os\n",
    "import time\n",
    "import requests\n",
    "import selenium\n",
    "import time\n",
    "import io\n",
    "from PIL import Image\n",
    "from selenium import webdriver\n",
    "from webdriver_manager.chrome import ChromeDriverManager\n",
    "from selenium.common.exceptions import ElementClickInterceptedException"
   ]
  },
  {
   "cell_type": "code",
   "execution_count": 2,
   "id": "40d7b00e",
   "metadata": {},
   "outputs": [
    {
     "name": "stderr",
     "output_type": "stream",
     "text": [
      "\n",
      "\n",
      "====== WebDriver manager ======\n",
      "Current google-chrome version is 99.0.4844\n",
      "Get LATEST chromedriver version for 99.0.4844 google-chrome\n",
      "Driver [C:\\Users\\Vishal\\.wdm\\drivers\\chromedriver\\win32\\99.0.4844.51\\chromedriver.exe] found in cache\n",
      "C:\\Users\\Vishal\\anaconda3\\envs\\ImageScrapper\\lib\\site-packages\\ipykernel_launcher.py:2: DeprecationWarning: executable_path has been deprecated, please pass in a Service object\n",
      "  \n"
     ]
    }
   ],
   "source": [
    "# Install driver\n",
    "driver = webdriver.Chrome(ChromeDriverManager().install())"
   ]
  },
  {
   "cell_type": "code",
   "execution_count": 3,
   "id": "a7ca3524",
   "metadata": {},
   "outputs": [
    {
     "name": "stdout",
     "output_type": "stream",
     "text": [
      "Value you want to searchCar\n"
     ]
    }
   ],
   "source": [
    "# specify search url\n",
    "q = input(\"Value you want to search: \")\n",
    "search_url = \"https://www.google.com/search?q={q}&tbm=isch&tbs=sur%3Afc&hl=en&ved=0CAIQpwVqFwoTCKCa1c6s4-oCFQAAAAAdAAAAABAC&biw=1251&bih=568\"          #the images will be copyright-free images\n",
    "driver.get(search_url.format(q=q))"
   ]
  },
  {
   "cell_type": "code",
   "execution_count": 4,
   "id": "cf0995c7",
   "metadata": {},
   "outputs": [],
   "source": [
    "def scroll_to_end(driver):\n",
    "    # scroll to the end of page\n",
    "    driver.execute_script('window.scrollTo(0, document.body.scrillHeight);')\n",
    "    # sleep between interactions\n",
    "    time.sleep(5)"
   ]
  },
  {
   "cell_type": "code",
   "execution_count": 6,
   "id": "0337b226",
   "metadata": {},
   "outputs": [
    {
     "name": "stderr",
     "output_type": "stream",
     "text": [
      "C:\\Users\\Vishal\\anaconda3\\envs\\ImageScrapper\\lib\\site-packages\\ipykernel_launcher.py:2: DeprecationWarning: find_elements_by_xpath is deprecated. Please use find_elements(by=By.XPATH, value=xpath) instead\n",
      "  \n"
     ]
    }
   ],
   "source": [
    "#Locate the images to be scraped from the current page\n",
    "imgResults = driver.find_elements_by_xpath(\"//img[contains(@class,'Q4LuWd')]\")\n",
    "totalResults=len(imgResults)"
   ]
  },
  {
   "cell_type": "code",
   "execution_count": 9,
   "id": "e926862f",
   "metadata": {},
   "outputs": [
    {
     "ename": "WebDriverException",
     "evalue": "Message: chrome not reachable\n  (Session info: chrome=99.0.4844.84)\nStacktrace:\nBacktrace:\n\tOrdinal0 [0x00A99943+2595139]\n\tOrdinal0 [0x00A2C9F1+2148849]\n\tOrdinal0 [0x009243F0+1065968]\n\tOrdinal0 [0x009187C2+1017794]\n\tOrdinal0 [0x00918FF8+1019896]\n\tOrdinal0 [0x0091A892+1026194]\n\tOrdinal0 [0x00914219+999961]\n\tOrdinal0 [0x00925860+1071200]\n\tOrdinal0 [0x0097B2D2+1422034]\n\tOrdinal0 [0x0096B806+1357830]\n\tOrdinal0 [0x00946086+1204358]\n\tOrdinal0 [0x00946F96+1208214]\n\tGetHandleVerifier [0x00C3B232+1658114]\n\tGetHandleVerifier [0x00CF312C+2411516]\n\tGetHandleVerifier [0x00B2F261+560433]\n\tGetHandleVerifier [0x00B2E366+556598]\n\tOrdinal0 [0x00A3286B+2173035]\n\tOrdinal0 [0x00A375F8+2192888]\n\tOrdinal0 [0x00A376E5+2193125]\n\tOrdinal0 [0x00A411FC+2232828]\n\tBaseThreadInitThunk [0x75856739+25]\n\tRtlGetFullPathName_UEx [0x77438E7F+1215]\n\tRtlGetFullPathName_UEx [0x77438E4D+1165]\n",
     "output_type": "error",
     "traceback": [
      "\u001b[1;31m---------------------------------------------------------------------------\u001b[0m",
      "\u001b[1;31mWebDriverException\u001b[0m                        Traceback (most recent call last)",
      "\u001b[1;32m~\\AppData\\Local\\Temp\\ipykernel_20744\\891951933.py\u001b[0m in \u001b[0;36m<module>\u001b[1;34m\u001b[0m\n\u001b[0;32m      4\u001b[0m     \u001b[0mimg\u001b[0m \u001b[1;33m=\u001b[0m \u001b[0mimgResults\u001b[0m\u001b[1;33m[\u001b[0m\u001b[0mi\u001b[0m\u001b[1;33m]\u001b[0m\u001b[1;33m\u001b[0m\u001b[1;33m\u001b[0m\u001b[0m\n\u001b[0;32m      5\u001b[0m     \u001b[1;32mtry\u001b[0m\u001b[1;33m:\u001b[0m\u001b[1;33m\u001b[0m\u001b[1;33m\u001b[0m\u001b[0m\n\u001b[1;32m----> 6\u001b[1;33m         \u001b[0mimg\u001b[0m\u001b[1;33m.\u001b[0m\u001b[0mclick\u001b[0m\u001b[1;33m(\u001b[0m\u001b[1;33m)\u001b[0m\u001b[1;33m\u001b[0m\u001b[1;33m\u001b[0m\u001b[0m\n\u001b[0m\u001b[0;32m      7\u001b[0m         \u001b[0mtime\u001b[0m\u001b[1;33m.\u001b[0m\u001b[0msleep\u001b[0m\u001b[1;33m(\u001b[0m\u001b[1;36m2\u001b[0m\u001b[1;33m)\u001b[0m\u001b[1;33m\u001b[0m\u001b[1;33m\u001b[0m\u001b[0m\n\u001b[0;32m      8\u001b[0m         \u001b[0mactual_images\u001b[0m \u001b[1;33m=\u001b[0m \u001b[0mdriver\u001b[0m\u001b[1;33m.\u001b[0m\u001b[0mfind_element_by_css_selector\u001b[0m\u001b[1;33m(\u001b[0m\u001b[1;34m'img.n3VNCb'\u001b[0m\u001b[1;33m)\u001b[0m\u001b[1;33m\u001b[0m\u001b[1;33m\u001b[0m\u001b[0m\n",
      "\u001b[1;32m~\\anaconda3\\envs\\ImageScrapper\\lib\\site-packages\\selenium\\webdriver\\remote\\webelement.py\u001b[0m in \u001b[0;36mclick\u001b[1;34m(self)\u001b[0m\n\u001b[0;32m     79\u001b[0m     \u001b[1;32mdef\u001b[0m \u001b[0mclick\u001b[0m\u001b[1;33m(\u001b[0m\u001b[0mself\u001b[0m\u001b[1;33m)\u001b[0m \u001b[1;33m->\u001b[0m \u001b[1;32mNone\u001b[0m\u001b[1;33m:\u001b[0m\u001b[1;33m\u001b[0m\u001b[1;33m\u001b[0m\u001b[0m\n\u001b[0;32m     80\u001b[0m         \u001b[1;34m\"\"\"Clicks the element.\"\"\"\u001b[0m\u001b[1;33m\u001b[0m\u001b[1;33m\u001b[0m\u001b[0m\n\u001b[1;32m---> 81\u001b[1;33m         \u001b[0mself\u001b[0m\u001b[1;33m.\u001b[0m\u001b[0m_execute\u001b[0m\u001b[1;33m(\u001b[0m\u001b[0mCommand\u001b[0m\u001b[1;33m.\u001b[0m\u001b[0mCLICK_ELEMENT\u001b[0m\u001b[1;33m)\u001b[0m\u001b[1;33m\u001b[0m\u001b[1;33m\u001b[0m\u001b[0m\n\u001b[0m\u001b[0;32m     82\u001b[0m \u001b[1;33m\u001b[0m\u001b[0m\n\u001b[0;32m     83\u001b[0m     \u001b[1;32mdef\u001b[0m \u001b[0msubmit\u001b[0m\u001b[1;33m(\u001b[0m\u001b[0mself\u001b[0m\u001b[1;33m)\u001b[0m\u001b[1;33m:\u001b[0m\u001b[1;33m\u001b[0m\u001b[1;33m\u001b[0m\u001b[0m\n",
      "\u001b[1;32m~\\anaconda3\\envs\\ImageScrapper\\lib\\site-packages\\selenium\\webdriver\\remote\\webelement.py\u001b[0m in \u001b[0;36m_execute\u001b[1;34m(self, command, params)\u001b[0m\n\u001b[0;32m    708\u001b[0m             \u001b[0mparams\u001b[0m \u001b[1;33m=\u001b[0m \u001b[1;33m{\u001b[0m\u001b[1;33m}\u001b[0m\u001b[1;33m\u001b[0m\u001b[1;33m\u001b[0m\u001b[0m\n\u001b[0;32m    709\u001b[0m         \u001b[0mparams\u001b[0m\u001b[1;33m[\u001b[0m\u001b[1;34m'id'\u001b[0m\u001b[1;33m]\u001b[0m \u001b[1;33m=\u001b[0m \u001b[0mself\u001b[0m\u001b[1;33m.\u001b[0m\u001b[0m_id\u001b[0m\u001b[1;33m\u001b[0m\u001b[1;33m\u001b[0m\u001b[0m\n\u001b[1;32m--> 710\u001b[1;33m         \u001b[1;32mreturn\u001b[0m \u001b[0mself\u001b[0m\u001b[1;33m.\u001b[0m\u001b[0m_parent\u001b[0m\u001b[1;33m.\u001b[0m\u001b[0mexecute\u001b[0m\u001b[1;33m(\u001b[0m\u001b[0mcommand\u001b[0m\u001b[1;33m,\u001b[0m \u001b[0mparams\u001b[0m\u001b[1;33m)\u001b[0m\u001b[1;33m\u001b[0m\u001b[1;33m\u001b[0m\u001b[0m\n\u001b[0m\u001b[0;32m    711\u001b[0m \u001b[1;33m\u001b[0m\u001b[0m\n\u001b[0;32m    712\u001b[0m     \u001b[1;32mdef\u001b[0m \u001b[0mfind_element\u001b[0m\u001b[1;33m(\u001b[0m\u001b[0mself\u001b[0m\u001b[1;33m,\u001b[0m \u001b[0mby\u001b[0m\u001b[1;33m=\u001b[0m\u001b[0mBy\u001b[0m\u001b[1;33m.\u001b[0m\u001b[0mID\u001b[0m\u001b[1;33m,\u001b[0m \u001b[0mvalue\u001b[0m\u001b[1;33m=\u001b[0m\u001b[1;32mNone\u001b[0m\u001b[1;33m)\u001b[0m\u001b[1;33m:\u001b[0m\u001b[1;33m\u001b[0m\u001b[1;33m\u001b[0m\u001b[0m\n",
      "\u001b[1;32m~\\anaconda3\\envs\\ImageScrapper\\lib\\site-packages\\selenium\\webdriver\\remote\\webdriver.py\u001b[0m in \u001b[0;36mexecute\u001b[1;34m(self, driver_command, params)\u001b[0m\n\u001b[0;32m    423\u001b[0m         \u001b[0mresponse\u001b[0m \u001b[1;33m=\u001b[0m \u001b[0mself\u001b[0m\u001b[1;33m.\u001b[0m\u001b[0mcommand_executor\u001b[0m\u001b[1;33m.\u001b[0m\u001b[0mexecute\u001b[0m\u001b[1;33m(\u001b[0m\u001b[0mdriver_command\u001b[0m\u001b[1;33m,\u001b[0m \u001b[0mparams\u001b[0m\u001b[1;33m)\u001b[0m\u001b[1;33m\u001b[0m\u001b[1;33m\u001b[0m\u001b[0m\n\u001b[0;32m    424\u001b[0m         \u001b[1;32mif\u001b[0m \u001b[0mresponse\u001b[0m\u001b[1;33m:\u001b[0m\u001b[1;33m\u001b[0m\u001b[1;33m\u001b[0m\u001b[0m\n\u001b[1;32m--> 425\u001b[1;33m             \u001b[0mself\u001b[0m\u001b[1;33m.\u001b[0m\u001b[0merror_handler\u001b[0m\u001b[1;33m.\u001b[0m\u001b[0mcheck_response\u001b[0m\u001b[1;33m(\u001b[0m\u001b[0mresponse\u001b[0m\u001b[1;33m)\u001b[0m\u001b[1;33m\u001b[0m\u001b[1;33m\u001b[0m\u001b[0m\n\u001b[0m\u001b[0;32m    426\u001b[0m             response['value'] = self._unwrap_value(\n\u001b[0;32m    427\u001b[0m                 response.get('value', None))\n",
      "\u001b[1;32m~\\anaconda3\\envs\\ImageScrapper\\lib\\site-packages\\selenium\\webdriver\\remote\\errorhandler.py\u001b[0m in \u001b[0;36mcheck_response\u001b[1;34m(self, response)\u001b[0m\n\u001b[0;32m    245\u001b[0m                 \u001b[0malert_text\u001b[0m \u001b[1;33m=\u001b[0m \u001b[0mvalue\u001b[0m\u001b[1;33m[\u001b[0m\u001b[1;34m'alert'\u001b[0m\u001b[1;33m]\u001b[0m\u001b[1;33m.\u001b[0m\u001b[0mget\u001b[0m\u001b[1;33m(\u001b[0m\u001b[1;34m'text'\u001b[0m\u001b[1;33m)\u001b[0m\u001b[1;33m\u001b[0m\u001b[1;33m\u001b[0m\u001b[0m\n\u001b[0;32m    246\u001b[0m             \u001b[1;32mraise\u001b[0m \u001b[0mexception_class\u001b[0m\u001b[1;33m(\u001b[0m\u001b[0mmessage\u001b[0m\u001b[1;33m,\u001b[0m \u001b[0mscreen\u001b[0m\u001b[1;33m,\u001b[0m \u001b[0mstacktrace\u001b[0m\u001b[1;33m,\u001b[0m \u001b[0malert_text\u001b[0m\u001b[1;33m)\u001b[0m  \u001b[1;31m# type: ignore[call-arg]  # mypy is not smart enough here\u001b[0m\u001b[1;33m\u001b[0m\u001b[1;33m\u001b[0m\u001b[0m\n\u001b[1;32m--> 247\u001b[1;33m         \u001b[1;32mraise\u001b[0m \u001b[0mexception_class\u001b[0m\u001b[1;33m(\u001b[0m\u001b[0mmessage\u001b[0m\u001b[1;33m,\u001b[0m \u001b[0mscreen\u001b[0m\u001b[1;33m,\u001b[0m \u001b[0mstacktrace\u001b[0m\u001b[1;33m)\u001b[0m\u001b[1;33m\u001b[0m\u001b[1;33m\u001b[0m\u001b[0m\n\u001b[0m\u001b[0;32m    248\u001b[0m \u001b[1;33m\u001b[0m\u001b[0m\n\u001b[0;32m    249\u001b[0m     \u001b[1;32mdef\u001b[0m \u001b[0m_value_or_default\u001b[0m\u001b[1;33m(\u001b[0m\u001b[0mself\u001b[0m\u001b[1;33m,\u001b[0m \u001b[0mobj\u001b[0m\u001b[1;33m:\u001b[0m \u001b[0mMapping\u001b[0m\u001b[1;33m[\u001b[0m\u001b[0m_KT\u001b[0m\u001b[1;33m,\u001b[0m \u001b[0m_VT\u001b[0m\u001b[1;33m]\u001b[0m\u001b[1;33m,\u001b[0m \u001b[0mkey\u001b[0m\u001b[1;33m:\u001b[0m \u001b[0m_KT\u001b[0m\u001b[1;33m,\u001b[0m \u001b[0mdefault\u001b[0m\u001b[1;33m:\u001b[0m \u001b[0m_VT\u001b[0m\u001b[1;33m)\u001b[0m \u001b[1;33m->\u001b[0m \u001b[0m_VT\u001b[0m\u001b[1;33m:\u001b[0m\u001b[1;33m\u001b[0m\u001b[1;33m\u001b[0m\u001b[0m\n",
      "\u001b[1;31mWebDriverException\u001b[0m: Message: chrome not reachable\n  (Session info: chrome=99.0.4844.84)\nStacktrace:\nBacktrace:\n\tOrdinal0 [0x00A99943+2595139]\n\tOrdinal0 [0x00A2C9F1+2148849]\n\tOrdinal0 [0x009243F0+1065968]\n\tOrdinal0 [0x009187C2+1017794]\n\tOrdinal0 [0x00918FF8+1019896]\n\tOrdinal0 [0x0091A892+1026194]\n\tOrdinal0 [0x00914219+999961]\n\tOrdinal0 [0x00925860+1071200]\n\tOrdinal0 [0x0097B2D2+1422034]\n\tOrdinal0 [0x0096B806+1357830]\n\tOrdinal0 [0x00946086+1204358]\n\tOrdinal0 [0x00946F96+1208214]\n\tGetHandleVerifier [0x00C3B232+1658114]\n\tGetHandleVerifier [0x00CF312C+2411516]\n\tGetHandleVerifier [0x00B2F261+560433]\n\tGetHandleVerifier [0x00B2E366+556598]\n\tOrdinal0 [0x00A3286B+2173035]\n\tOrdinal0 [0x00A375F8+2192888]\n\tOrdinal0 [0x00A376E5+2193125]\n\tOrdinal0 [0x00A411FC+2232828]\n\tBaseThreadInitThunk [0x75856739+25]\n\tRtlGetFullPathName_UEx [0x77438E7F+1215]\n\tRtlGetFullPathName_UEx [0x77438E4D+1165]\n"
     ]
    }
   ],
   "source": [
    "# getting the link of each and every image and storing it in a list so that we can download the image\n",
    "img_urls = set()\n",
    "for i in range(0, len(imgResults)):\n",
    "    img = imgResults[i]\n",
    "    try:\n",
    "        img.click()\n",
    "        time.sleep(2)\n",
    "        actual_images = driver.find_element_by_css_selector('img.n3VNCb')\n",
    "        for actual_image in actual_images:\n",
    "            if actual_image.get_attribute('src') and 'https' in actual_image.get_attribute('src'):\n",
    "                img_urls.add(actual_image.get_attribute('src'))\n",
    "    except ElementClickInterceptedException or ElementNotInteractable as err:\n",
    "        print(err)\n"
   ]
  },
  {
   "cell_type": "code",
   "execution_count": 1,
   "id": "63392f85",
   "metadata": {},
   "outputs": [],
   "source": [
    "import instagramy"
   ]
  },
  {
   "cell_type": "code",
   "execution_count": 12,
   "id": "ee6ce510",
   "metadata": {},
   "outputs": [],
   "source": [
    "user = instagramy.InstagramUser('ineuron')"
   ]
  },
  {
   "cell_type": "code",
   "execution_count": 13,
   "id": "4c038f7a",
   "metadata": {},
   "outputs": [
    {
     "name": "stdout",
     "output_type": "stream",
     "text": [
      "328\n"
     ]
    }
   ],
   "source": [
    "print(user.number_of_followers)"
   ]
  },
  {
   "cell_type": "code",
   "execution_count": 14,
   "id": "10fae564",
   "metadata": {},
   "outputs": [
    {
     "name": "stdout",
     "output_type": "stream",
     "text": [
      "False\n"
     ]
    }
   ],
   "source": [
    "print(user.is_verified)"
   ]
  },
  {
   "cell_type": "code",
   "execution_count": 15,
   "id": "406e53cd",
   "metadata": {},
   "outputs": [
    {
     "name": "stdout",
     "output_type": "stream",
     "text": [
      "U can hear It in the SILENCE...🌃 \n",
      "U can feel it on the way HOME...🏙 \n",
      "U can see It with the Lights OUT...🌌\n",
      "[S≋t≋a≋r≋s ≋a≋n≋d≋ ≋S≋t≋r≋i≋p≋e≋s≋🇺🇸] (T.V.)\n"
     ]
    }
   ],
   "source": [
    "print(user.biography)"
   ]
  },
  {
   "cell_type": "code",
   "execution_count": 28,
   "id": "e43e66f8",
   "metadata": {},
   "outputs": [
    {
     "name": "stdout",
     "output_type": "stream",
     "text": [
      "35 1 https://www.instagram.com/p/B19rY4qpR9n/\n",
      "28 1 https://www.instagram.com/p/B1mK87kJFPv/\n",
      "41 1 https://www.instagram.com/p/Bv2PVVXJNM3/\n",
      "48 2 https://www.instagram.com/p/BtQbnkOA5nk/\n",
      "61 2 https://www.instagram.com/p/BpuzgdYg6Aw/\n",
      "50 2 https://www.instagram.com/p/BnZBr9CFfxr/\n",
      "75 2 https://www.instagram.com/p/Blz6BnHF98r/\n",
      "45 2 https://www.instagram.com/p/BlbZfiill0S/\n",
      "45 1 https://www.instagram.com/p/BlOi3nGFLh1/\n",
      "59 3 https://www.instagram.com/p/BiXKoWSFA2C/\n",
      "47 1 https://www.instagram.com/p/Bh7M4p0lmSx/\n",
      "49 4 https://www.instagram.com/p/Bg9jcv-hiKh/\n"
     ]
    }
   ],
   "source": [
    "# return the list of dicts\n",
    "posts = user.posts\n",
    "for post in posts:\n",
    "    likes = post.likes\n",
    "    comments = post.comments\n",
    "    post_pic_url = post.post_url \n",
    "    print(likes, comments, post_pic_url)"
   ]
  },
  {
   "cell_type": "code",
   "execution_count": 21,
   "id": "569c97aa",
   "metadata": {},
   "outputs": [
    {
     "name": "stdout",
     "output_type": "stream",
     "text": [
      "Post(likes=35, comments=1, caption='Photo by Ilia Masih on September 03, 2019.', is_video=False, timestamp=1567545177, location=None, shortcode='B19rY4qpR9n', post_url='https://www.instagram.com/p/B19rY4qpR9n/', display_url='https://scontent-maa2-2.cdninstagram.com/v/t51.2885-15/68848549_674989496338180_4055018108592883468_n.jpg?stp=dst-jpg_e35&_nc_ht=scontent-maa2-2.cdninstagram.com&_nc_cat=104&_nc_ohc=xs2q3ZfpHOMAX_TVpRg&edm=ABfd0MgBAAAA&ccb=7-4&oh=00_AT9DyblJt5VtEZl07S6GsyDYO7wHV8KIhCUX9EXlgvi_ww&oe=6256346E&_nc_sid=7bff83', post_source='https://scontent-maa2-2.cdninstagram.com/v/t51.2885-15/68848549_674989496338180_4055018108592883468_n.jpg?stp=dst-jpg_e35&_nc_ht=scontent-maa2-2.cdninstagram.com&_nc_cat=104&_nc_ohc=xs2q3ZfpHOMAX_TVpRg&edm=ABfd0MgBAAAA&ccb=7-4&oh=00_AT9DyblJt5VtEZl07S6GsyDYO7wHV8KIhCUX9EXlgvi_ww&oe=6256346E&_nc_sid=7bff83', taken_at_timestamp=datetime.datetime(2019, 9, 4, 2, 42, 57))\n",
      "Post(likes=28, comments=1, caption='Photo by Ilia Masih on August 25, 2019.', is_video=False, timestamp=1566756418, location=None, shortcode='B1mK87kJFPv', post_url='https://www.instagram.com/p/B1mK87kJFPv/', display_url='https://scontent-maa2-1.cdninstagram.com/v/t51.2885-15/69552575_176149100086578_4194540436914952456_n.jpg?stp=dst-jpg_e35_s1080x1080&_nc_ht=scontent-maa2-1.cdninstagram.com&_nc_cat=106&_nc_ohc=_tOFsmQ-DfoAX9YddbV&edm=ABfd0MgBAAAA&ccb=7-4&oh=00_AT8QD_-8L8eE31hUKJWu598M6GIjtD8lJiV5niBirvN8oQ&oe=6255EC4C&_nc_sid=7bff83', post_source='https://scontent-maa2-1.cdninstagram.com/v/t51.2885-15/69552575_176149100086578_4194540436914952456_n.jpg?stp=dst-jpg_e35_s1080x1080&_nc_ht=scontent-maa2-1.cdninstagram.com&_nc_cat=106&_nc_ohc=_tOFsmQ-DfoAX9YddbV&edm=ABfd0MgBAAAA&ccb=7-4&oh=00_AT8QD_-8L8eE31hUKJWu598M6GIjtD8lJiV5niBirvN8oQ&oe=6255EC4C&_nc_sid=7bff83', taken_at_timestamp=datetime.datetime(2019, 8, 25, 23, 36, 58))\n",
      "Post(likes=41, comments=1, caption='Photo by Ilia Masih on April 04, 2019.', is_video=False, timestamp=1554410685, location=None, shortcode='Bv2PVVXJNM3', post_url='https://www.instagram.com/p/Bv2PVVXJNM3/', display_url='https://scontent-maa2-1.cdninstagram.com/v/t51.2885-15/54513624_342450566387397_3489876838441208188_n.jpg?stp=dst-jpg_e35&_nc_ht=scontent-maa2-1.cdninstagram.com&_nc_cat=109&_nc_ohc=OX353WQEvpgAX8623eU&edm=ABfd0MgBAAAA&ccb=7-4&oh=00_AT-nm61IgW9Q45vGKJ0LPzFPy7WvscsAAA19BsjwPjx1pw&oe=625656DA&_nc_sid=7bff83', post_source='https://scontent-maa2-1.cdninstagram.com/v/t51.2885-15/54513624_342450566387397_3489876838441208188_n.jpg?stp=dst-jpg_e35&_nc_ht=scontent-maa2-1.cdninstagram.com&_nc_cat=109&_nc_ohc=OX353WQEvpgAX8623eU&edm=ABfd0MgBAAAA&ccb=7-4&oh=00_AT-nm61IgW9Q45vGKJ0LPzFPy7WvscsAAA19BsjwPjx1pw&oe=625656DA&_nc_sid=7bff83', taken_at_timestamp=datetime.datetime(2019, 4, 5, 2, 14, 45))\n",
      "Post(likes=48, comments=2, caption='Photo by Ilia Masih on January 30, 2019.', is_video=False, timestamp=1548847090, location=None, shortcode='BtQbnkOA5nk', post_url='https://www.instagram.com/p/BtQbnkOA5nk/', display_url='https://scontent-maa2-2.cdninstagram.com/v/t51.2885-15/49854815_112550979843931_9013217777038391131_n.jpg?stp=dst-jpg_e35&_nc_ht=scontent-maa2-2.cdninstagram.com&_nc_cat=107&_nc_ohc=5XWojKF90B0AX8GGO4Y&edm=ABfd0MgBAAAA&ccb=7-4&oh=00_AT9XcXcKWfmbdGu6GUvI0Fz0adAFj-xdXO6Qpu7ts-ujlg&oe=62556139&_nc_sid=7bff83', post_source='https://scontent-maa2-2.cdninstagram.com/v/t51.2885-15/49854815_112550979843931_9013217777038391131_n.jpg?stp=dst-jpg_e35&_nc_ht=scontent-maa2-2.cdninstagram.com&_nc_cat=107&_nc_ohc=5XWojKF90B0AX8GGO4Y&edm=ABfd0MgBAAAA&ccb=7-4&oh=00_AT9XcXcKWfmbdGu6GUvI0Fz0adAFj-xdXO6Qpu7ts-ujlg&oe=62556139&_nc_sid=7bff83', taken_at_timestamp=datetime.datetime(2019, 1, 30, 16, 48, 10))\n",
      "Post(likes=61, comments=2, caption='Photo by Ilia Masih on November 03, 2018.', is_video=False, timestamp=1541276313, location=None, shortcode='BpuzgdYg6Aw', post_url='https://www.instagram.com/p/BpuzgdYg6Aw/', display_url='https://scontent-maa2-2.cdninstagram.com/v/t51.2885-15/44315657_330326254187107_409429499528613706_n.jpg?stp=dst-jpg_e35&_nc_ht=scontent-maa2-2.cdninstagram.com&_nc_cat=107&_nc_ohc=piSM7Zd3m60AX-4QpB5&edm=ABfd0MgBAAAA&ccb=7-4&oh=00_AT-kR1_4X6zwOjz-wcRm5kIEdcKtpYZEeIbAQDmOp601Qw&oe=6256B133&_nc_sid=7bff83', post_source='https://scontent-maa2-2.cdninstagram.com/v/t51.2885-15/44315657_330326254187107_409429499528613706_n.jpg?stp=dst-jpg_e35&_nc_ht=scontent-maa2-2.cdninstagram.com&_nc_cat=107&_nc_ohc=piSM7Zd3m60AX-4QpB5&edm=ABfd0MgBAAAA&ccb=7-4&oh=00_AT-kR1_4X6zwOjz-wcRm5kIEdcKtpYZEeIbAQDmOp601Qw&oe=6256B133&_nc_sid=7bff83', taken_at_timestamp=datetime.datetime(2018, 11, 4, 1, 48, 33))\n",
      "Post(likes=50, comments=2, caption='Photo by Ilia Masih on September 06, 2018.', is_video=False, timestamp=1536250582, location=None, shortcode='BnZBr9CFfxr', post_url='https://www.instagram.com/p/BnZBr9CFfxr/', display_url='https://scontent-maa2-2.cdninstagram.com/v/t51.2885-15/39956861_2186062064981027_2607463641620335287_n.jpg?stp=dst-jpg_e35&_nc_ht=scontent-maa2-2.cdninstagram.com&_nc_cat=111&_nc_ohc=Stblg_FUPrwAX9qd8Kp&edm=ABfd0MgBAAAA&ccb=7-4&oh=00_AT825rg-xUBiF0zZaVRuDbNdGeMwcd2lDkt2akM5hUyf5A&oe=6255B1FC&_nc_sid=7bff83', post_source='https://scontent-maa2-2.cdninstagram.com/v/t51.2885-15/39956861_2186062064981027_2607463641620335287_n.jpg?stp=dst-jpg_e35&_nc_ht=scontent-maa2-2.cdninstagram.com&_nc_cat=111&_nc_ohc=Stblg_FUPrwAX9qd8Kp&edm=ABfd0MgBAAAA&ccb=7-4&oh=00_AT825rg-xUBiF0zZaVRuDbNdGeMwcd2lDkt2akM5hUyf5A&oe=6255B1FC&_nc_sid=7bff83', taken_at_timestamp=datetime.datetime(2018, 9, 6, 21, 46, 22))\n",
      "Post(likes=75, comments=2, caption='Photo by Ilia Masih on July 29, 2018.', is_video=False, timestamp=1532857568, location=None, shortcode='Blz6BnHF98r', post_url='https://www.instagram.com/p/Blz6BnHF98r/', display_url='https://scontent-maa2-1.cdninstagram.com/v/t51.2885-15/37278013_275999066496909_4307707835447246848_n.jpg?stp=dst-jpg_e35&_nc_ht=scontent-maa2-1.cdninstagram.com&_nc_cat=109&_nc_ohc=Qb7HbPqSKP4AX99r_Su&edm=ABfd0MgBAAAA&ccb=7-4&oh=00_AT8aqeKISAvGXPgmJTKyqUpiShCvUPA4Tm4BS3QjI3RT9w&oe=62551B7B&_nc_sid=7bff83', post_source='https://scontent-maa2-1.cdninstagram.com/v/t51.2885-15/37278013_275999066496909_4307707835447246848_n.jpg?stp=dst-jpg_e35&_nc_ht=scontent-maa2-1.cdninstagram.com&_nc_cat=109&_nc_ohc=Qb7HbPqSKP4AX99r_Su&edm=ABfd0MgBAAAA&ccb=7-4&oh=00_AT8aqeKISAvGXPgmJTKyqUpiShCvUPA4Tm4BS3QjI3RT9w&oe=62551B7B&_nc_sid=7bff83', taken_at_timestamp=datetime.datetime(2018, 7, 29, 15, 16, 8))\n",
      "Post(likes=45, comments=2, caption='Photo by Ilia Masih on July 19, 2018.', is_video=False, timestamp=1532035205, location=None, shortcode='BlbZfiill0S', post_url='https://www.instagram.com/p/BlbZfiill0S/', display_url='https://scontent-maa2-1.cdninstagram.com/v/t51.2885-15/36870871_637948649892405_1027272957916872704_n.jpg?stp=dst-jpg_e35&_nc_ht=scontent-maa2-1.cdninstagram.com&_nc_cat=109&_nc_ohc=ovMdKBO2e5oAX9GbqJO&edm=ABfd0MgBAAAA&ccb=7-4&oh=00_AT-SUgY9iVIlJTGxCUns4LQDNehjgKYW5uwsoPcmOPlZLA&oe=6256A3FE&_nc_sid=7bff83', post_source='https://scontent-maa2-1.cdninstagram.com/v/t51.2885-15/36870871_637948649892405_1027272957916872704_n.jpg?stp=dst-jpg_e35&_nc_ht=scontent-maa2-1.cdninstagram.com&_nc_cat=109&_nc_ohc=ovMdKBO2e5oAX9GbqJO&edm=ABfd0MgBAAAA&ccb=7-4&oh=00_AT-SUgY9iVIlJTGxCUns4LQDNehjgKYW5uwsoPcmOPlZLA&oe=6256A3FE&_nc_sid=7bff83', taken_at_timestamp=datetime.datetime(2018, 7, 20, 2, 50, 5))\n",
      "Post(likes=45, comments=1, caption='Photo by Ilia Masih on July 14, 2018.', is_video=False, timestamp=1531603913, location=None, shortcode='BlOi3nGFLh1', post_url='https://www.instagram.com/p/BlOi3nGFLh1/', display_url='https://scontent-maa2-1.cdninstagram.com/v/t51.2885-15/36738131_152298142231134_4967175144347795456_n.jpg?stp=dst-jpg_e35&_nc_ht=scontent-maa2-1.cdninstagram.com&_nc_cat=106&_nc_ohc=juu-jkzNqicAX8zzx1Q&edm=ABfd0MgBAAAA&ccb=7-4&oh=00_AT_YKEJFRSTpz1F1jdUcJA1DGxle83KfVOj01sHKBoDGbg&oe=62555D37&_nc_sid=7bff83', post_source='https://scontent-maa2-1.cdninstagram.com/v/t51.2885-15/36738131_152298142231134_4967175144347795456_n.jpg?stp=dst-jpg_e35&_nc_ht=scontent-maa2-1.cdninstagram.com&_nc_cat=106&_nc_ohc=juu-jkzNqicAX8zzx1Q&edm=ABfd0MgBAAAA&ccb=7-4&oh=00_AT_YKEJFRSTpz1F1jdUcJA1DGxle83KfVOj01sHKBoDGbg&oe=62555D37&_nc_sid=7bff83', taken_at_timestamp=datetime.datetime(2018, 7, 15, 3, 1, 53))\n",
      "Post(likes=59, comments=3, caption='Photo by Ilia Masih on May 04, 2018.', is_video=False, timestamp=1525450744, location=None, shortcode='BiXKoWSFA2C', post_url='https://www.instagram.com/p/BiXKoWSFA2C/', display_url='https://scontent-maa2-1.cdninstagram.com/v/t51.2885-15/31023944_2062790830713122_348585429848555520_n.jpg?stp=dst-jpg_e35&_nc_ht=scontent-maa2-1.cdninstagram.com&_nc_cat=102&_nc_ohc=yhnKT2iB_fIAX_e_lAZ&edm=ABfd0MgBAAAA&ccb=7-4&oh=00_AT_hjFM7OciWHPVy-UqgTpoGWyWoez_eSD0-TmffKf-7fw&oe=6254EBF0&_nc_sid=7bff83', post_source='https://scontent-maa2-1.cdninstagram.com/v/t51.2885-15/31023944_2062790830713122_348585429848555520_n.jpg?stp=dst-jpg_e35&_nc_ht=scontent-maa2-1.cdninstagram.com&_nc_cat=102&_nc_ohc=yhnKT2iB_fIAX_e_lAZ&edm=ABfd0MgBAAAA&ccb=7-4&oh=00_AT_hjFM7OciWHPVy-UqgTpoGWyWoez_eSD0-TmffKf-7fw&oe=6254EBF0&_nc_sid=7bff83', taken_at_timestamp=datetime.datetime(2018, 5, 4, 21, 49, 4))\n",
      "Post(likes=47, comments=1, caption='Photo by Ilia Masih on April 23, 2018.', is_video=False, timestamp=1524512402, location=None, shortcode='Bh7M4p0lmSx', post_url='https://www.instagram.com/p/Bh7M4p0lmSx/', display_url='https://scontent-maa2-2.cdninstagram.com/v/t51.2885-15/30918058_184208675547687_7246496361141501952_n.jpg?stp=dst-jpg_e35&_nc_ht=scontent-maa2-2.cdninstagram.com&_nc_cat=103&_nc_ohc=WNsIfFS9aiUAX912bSs&edm=ABfd0MgBAAAA&ccb=7-4&oh=00_AT8VpTwwwzEilqam56WyCoHZHmxIiPi_Eq2QP_z_2XDNCQ&oe=6256468B&_nc_sid=7bff83', post_source='https://scontent-maa2-2.cdninstagram.com/v/t51.2885-15/30918058_184208675547687_7246496361141501952_n.jpg?stp=dst-jpg_e35&_nc_ht=scontent-maa2-2.cdninstagram.com&_nc_cat=103&_nc_ohc=WNsIfFS9aiUAX912bSs&edm=ABfd0MgBAAAA&ccb=7-4&oh=00_AT8VpTwwwzEilqam56WyCoHZHmxIiPi_Eq2QP_z_2XDNCQ&oe=6256468B&_nc_sid=7bff83', taken_at_timestamp=datetime.datetime(2018, 4, 24, 1, 10, 2))\n",
      "Post(likes=49, comments=4, caption='Photo by Ilia Masih on March 30, 2018.', is_video=False, timestamp=1522443857, location=None, shortcode='Bg9jcv-hiKh', post_url='https://www.instagram.com/p/Bg9jcv-hiKh/', display_url='https://scontent-maa2-1.cdninstagram.com/v/t51.2885-15/29401732_327180917804057_7778947077484052480_n.jpg?stp=dst-jpg_e35&_nc_ht=scontent-maa2-1.cdninstagram.com&_nc_cat=105&_nc_ohc=0bDfFXjFABEAX-VtODS&edm=ABfd0MgBAAAA&ccb=7-4&oh=00_AT-vZa2-D3v62lw9X6wmBjPQVTRaMkTjcPBaaxAV2yJduw&oe=6256C73F&_nc_sid=7bff83', post_source='https://scontent-maa2-1.cdninstagram.com/v/t51.2885-15/29401732_327180917804057_7778947077484052480_n.jpg?stp=dst-jpg_e35&_nc_ht=scontent-maa2-1.cdninstagram.com&_nc_cat=105&_nc_ohc=0bDfFXjFABEAX-VtODS&edm=ABfd0MgBAAAA&ccb=7-4&oh=00_AT-vZa2-D3v62lw9X6wmBjPQVTRaMkTjcPBaaxAV2yJduw&oe=6256C73F&_nc_sid=7bff83', taken_at_timestamp=datetime.datetime(2018, 3, 31, 2, 34, 17))\n"
     ]
    }
   ],
   "source": [
    "for post in posts:\n",
    "    print(post)"
   ]
  },
  {
   "cell_type": "code",
   "execution_count": null,
   "id": "a35e67e5",
   "metadata": {},
   "outputs": [],
   "source": [
    "from instagramy import InstagramPo"
   ]
  },
  {
   "cell_type": "code",
   "execution_count": null,
   "id": "caecb3cf",
   "metadata": {},
   "outputs": [],
   "source": []
  },
  {
   "cell_type": "code",
   "execution_count": 25,
   "id": "27603676",
   "metadata": {},
   "outputs": [
    {
     "name": "stdout",
     "output_type": "stream",
     "text": [
      "Request return 400 error!\n"
     ]
    },
    {
     "ename": "AttributeError",
     "evalue": "'InstagramAPI' object has no attribute 'rank_token'",
     "output_type": "error",
     "traceback": [
      "\u001b[1;31m---------------------------------------------------------------------------\u001b[0m",
      "\u001b[1;31mAttributeError\u001b[0m                            Traceback (most recent call last)",
      "\u001b[1;32m~\\AppData\\Local\\Temp\\ipykernel_15312\\138868173.py\u001b[0m in \u001b[0;36m<module>\u001b[1;34m\u001b[0m\n\u001b[0;32m    254\u001b[0m \u001b[0mInstagramAPI\u001b[0m \u001b[1;33m=\u001b[0m \u001b[0mInstagramAPI\u001b[0m\u001b[1;33m(\u001b[0m\u001b[1;34m\"login\"\u001b[0m\u001b[1;33m,\u001b[0m \u001b[1;34m\"password\"\u001b[0m\u001b[1;33m)\u001b[0m\u001b[1;33m\u001b[0m\u001b[1;33m\u001b[0m\u001b[0m\n\u001b[0;32m    255\u001b[0m \u001b[0mInstagramAPI\u001b[0m\u001b[1;33m.\u001b[0m\u001b[0mlogin\u001b[0m\u001b[1;33m(\u001b[0m\u001b[1;33m)\u001b[0m \u001b[1;31m# login\u001b[0m\u001b[1;33m\u001b[0m\u001b[1;33m\u001b[0m\u001b[0m\n\u001b[1;32m--> 256\u001b[1;33m \u001b[0mInstagramAPI\u001b[0m\u001b[1;33m.\u001b[0m\u001b[0mtagFeed\u001b[0m\u001b[1;33m(\u001b[0m\u001b[1;34m\"ootd\"\u001b[0m\u001b[1;33m)\u001b[0m \u001b[1;31m# get media list by tag #cat\u001b[0m\u001b[1;33m\u001b[0m\u001b[1;33m\u001b[0m\u001b[0m\n\u001b[0m\u001b[0;32m    257\u001b[0m \u001b[0mmedia_id\u001b[0m \u001b[1;33m=\u001b[0m \u001b[0mInstagramAPI\u001b[0m\u001b[1;33m.\u001b[0m\u001b[0mLastJson\u001b[0m\u001b[1;33m[\u001b[0m\u001b[1;34m\"ranked_items\"\u001b[0m\u001b[1;33m]\u001b[0m\u001b[1;33m[\u001b[0m\u001b[1;36m0\u001b[0m\u001b[1;33m]\u001b[0m\u001b[1;33m[\u001b[0m\u001b[1;34m\"pk\"\u001b[0m\u001b[1;33m]\u001b[0m \u001b[1;31m# media id of first media\u001b[0m\u001b[1;33m\u001b[0m\u001b[1;33m\u001b[0m\u001b[0m\n\u001b[0;32m    258\u001b[0m \u001b[0mInstagramAPI\u001b[0m\u001b[1;33m.\u001b[0m\u001b[0mlike\u001b[0m\u001b[1;33m(\u001b[0m\u001b[0mmedia_id\u001b[0m\u001b[1;33m)\u001b[0m \u001b[1;31m# like first media\u001b[0m\u001b[1;33m\u001b[0m\u001b[1;33m\u001b[0m\u001b[0m\n",
      "\u001b[1;32m~\\AppData\\Local\\Temp\\ipykernel_15312\\138868173.py\u001b[0m in \u001b[0;36mtagFeed\u001b[1;34m(self, tag)\u001b[0m\n\u001b[0;32m     72\u001b[0m \u001b[1;33m\u001b[0m\u001b[0m\n\u001b[0;32m     73\u001b[0m     \u001b[1;32mdef\u001b[0m \u001b[0mtagFeed\u001b[0m\u001b[1;33m(\u001b[0m\u001b[0mself\u001b[0m\u001b[1;33m,\u001b[0m \u001b[0mtag\u001b[0m\u001b[1;33m)\u001b[0m\u001b[1;33m:\u001b[0m\u001b[1;33m\u001b[0m\u001b[1;33m\u001b[0m\u001b[0m\n\u001b[1;32m---> 74\u001b[1;33m         \u001b[0muserFeed\u001b[0m \u001b[1;33m=\u001b[0m \u001b[0mself\u001b[0m\u001b[1;33m.\u001b[0m\u001b[0mSendRequest\u001b[0m\u001b[1;33m(\u001b[0m\u001b[1;34m\"feed/tag/\"\u001b[0m\u001b[1;33m+\u001b[0m \u001b[0mtag\u001b[0m \u001b[1;33m+\u001b[0m\u001b[1;34m\"/?rank_token=\"\u001b[0m \u001b[1;33m+\u001b[0m \u001b[0mself\u001b[0m\u001b[1;33m.\u001b[0m\u001b[0mrank_token\u001b[0m \u001b[1;33m+\u001b[0m \u001b[1;34m\"&ranked_content=true&\"\u001b[0m\u001b[1;33m)\u001b[0m\u001b[1;33m\u001b[0m\u001b[1;33m\u001b[0m\u001b[0m\n\u001b[0m\u001b[0;32m     75\u001b[0m         \u001b[1;31m# TODO Instagram.php 1000-1015\u001b[0m\u001b[1;33m\u001b[0m\u001b[1;33m\u001b[0m\u001b[1;33m\u001b[0m\u001b[0m\n\u001b[0;32m     76\u001b[0m         \u001b[1;32mreturn\u001b[0m \u001b[0muserFeed\u001b[0m\u001b[1;33m\u001b[0m\u001b[1;33m\u001b[0m\u001b[0m\n",
      "\u001b[1;31mAttributeError\u001b[0m: 'InstagramAPI' object has no attribute 'rank_token'"
     ]
    }
   ],
   "source": [
    "import requests\n",
    "import random\n",
    "import json\n",
    "import hashlib\n",
    "import hmac\n",
    "import urllib\n",
    "\n",
    "class InstagramAPI:\n",
    "    API_URL = 'https://i.instagram.com/api/v1/'\n",
    "    USER_AGENT = 'Instagram 8.0.0 Android (18/4.3; 320dpi; 720x1280; Xiaomi; HM 1SW; armani; qcom; en_US)'\n",
    "    IG_SIG_KEY = '9b3b9e55988c954e51477da115c58ae82dcae7ac01c735b4443a3c5923cb593a'\n",
    "    EXPERIMENTS = 'ig_android_progressive_jpeg,ig_creation_growth_holdout,ig_android_report_and_hide,ig_android_new_browser,ig_android_enable_share_to_whatsapp,ig_android_direct_drawing_in_quick_cam_universe,ig_android_huawei_app_badging,ig_android_universe_video_production,ig_android_asus_app_badging,ig_android_direct_plus_button,ig_android_ads_heatmap_overlay_universe,ig_android_http_stack_experiment_2016,ig_android_infinite_scrolling,ig_fbns_blocked,ig_android_white_out_universe,ig_android_full_people_card_in_user_list,ig_android_post_auto_retry_v7_21,ig_fbns_push,ig_android_feed_pill,ig_android_profile_link_iab,ig_explore_v3_us_holdout,ig_android_histogram_reporter,ig_android_anrwatchdog,ig_android_search_client_matching,ig_android_high_res_upload_2,ig_android_new_browser_pre_kitkat,ig_android_2fac,ig_android_grid_video_icon,ig_android_white_camera_universe,ig_android_disable_chroma_subsampling,ig_android_share_spinner,ig_android_explore_people_feed_icon,ig_explore_v3_android_universe,ig_android_media_favorites,ig_android_nux_holdout,ig_android_search_null_state,ig_android_react_native_notification_setting,ig_android_ads_indicator_change_universe,ig_android_video_loading_behavior,ig_android_black_camera_tab,liger_instagram_android_univ,ig_explore_v3_internal,ig_android_direct_emoji_picker,ig_android_prefetch_explore_delay_time,ig_android_business_insights_qe,ig_android_direct_media_size,ig_android_enable_client_share,ig_android_promoted_posts,ig_android_app_badging_holdout,ig_android_ads_cta_universe,ig_android_mini_inbox_2,ig_android_feed_reshare_button_nux,ig_android_boomerang_feed_attribution,ig_android_fbinvite_qe,ig_fbns_shared,ig_android_direct_full_width_media,ig_android_hscroll_profile_chaining,ig_android_feed_unit_footer,ig_android_media_tighten_space,ig_android_private_follow_request,ig_android_inline_gallery_backoff_hours_universe,ig_android_direct_thread_ui_rewrite,ig_android_rendering_controls,ig_android_ads_full_width_cta_universe,ig_video_max_duration_qe_preuniverse,ig_android_prefetch_explore_expire_time,ig_timestamp_public_test,ig_android_profile,ig_android_dv2_consistent_http_realtime_response,ig_android_enable_share_to_messenger,ig_explore_v3,ig_ranking_following,ig_android_pending_request_search_bar,ig_android_feed_ufi_redesign,ig_android_video_pause_logging_fix,ig_android_default_folder_to_camera,ig_android_video_stitching_7_23,ig_android_profanity_filter,ig_android_business_profile_qe,ig_android_search,ig_android_boomerang_entry,ig_android_inline_gallery_universe,ig_android_ads_overlay_design_universe,ig_android_options_app_invite,ig_android_view_count_decouple_likes_universe,ig_android_periodic_analytics_upload_v2,ig_android_feed_unit_hscroll_auto_advance,ig_peek_profile_photo_universe,ig_android_ads_holdout_universe,ig_android_prefetch_explore,ig_android_direct_bubble_icon,ig_video_use_sve_universe,ig_android_inline_gallery_no_backoff_on_launch_universe,ig_android_image_cache_multi_queue,ig_android_camera_nux,ig_android_immersive_viewer,ig_android_dense_feed_unit_cards,ig_android_sqlite_dev,ig_android_exoplayer,ig_android_add_to_last_post,ig_android_direct_public_threads,ig_android_prefetch_venue_in_composer,ig_android_bigger_share_button,ig_android_dv2_realtime_private_share,ig_android_non_square_first,ig_android_video_interleaved_v2,ig_android_follow_search_bar,ig_android_last_edits,ig_android_video_download_logging,ig_android_ads_loop_count_universe,ig_android_swipeable_filters_blacklist,ig_android_boomerang_layout_white_out_universe,ig_android_ads_carousel_multi_row_universe,ig_android_mentions_invite_v2,ig_android_direct_mention_qe,ig_android_following_follower_social_context'\n",
    "    SIG_KEY_VERSION = '4'\n",
    "\n",
    "    #username            # Instagram username\n",
    "    #password            # Instagram password\n",
    "    #debug               # Debug\n",
    "    #uuid                # UUID\n",
    "    #device_id           # Device ID\n",
    "    #username_id         # Username ID\n",
    "    #token               # _csrftoken\n",
    "    #isLoggedIn          # Session status\n",
    "    #rank_token          # Rank token\n",
    "    #IGDataPath          # Data storage path\n",
    "\n",
    "    def __init__(self, username, password, debug = False, IGDataPath = None):\n",
    "        m = hashlib.md5()\n",
    "        m.update(username.encode('utf-8') + password.encode('utf-8'))\n",
    "        self.device_id = self.generateDeviceId(m.hexdigest())\n",
    "        self.setUser(username, password)\n",
    "        self.isLoggedIn = False\n",
    "        self.LastResponse = None\n",
    "\n",
    "    def setUser(self, username, password):\n",
    "        self.username = username\n",
    "        self.password = password\n",
    "\n",
    "        self.uuid = self.generateUUID(True)\n",
    "\n",
    "        # TODO save data to file...\n",
    "\n",
    "    def login(self, force = False):\n",
    "        if (not self.isLoggedIn or force):\n",
    "            self.s = requests.Session()\n",
    "            # if you need proxy make something like this:\n",
    "            # self.s.proxies = {\"https\" : \"http://proxyip:proxyport\"}\n",
    "            if (self.SendRequest('si/fetch_headers/?challenge_type=signup&guid=' + self.generateUUID(False), None, True)):\n",
    "\n",
    "                data = {'phone_id'   : self.generateUUID(True),\n",
    "                        '_csrftoken' : self.LastResponse.cookies['csrftoken'],\n",
    "                        'username'   : self.username,\n",
    "                        'guid'       : self.uuid,\n",
    "                        'device_id'  : self.device_id,\n",
    "                        'password'   : self.password,\n",
    "                        'login_attempt_count' : '0'}\n",
    "\n",
    "                if (self.SendRequest('accounts/login/', self.generateSignature(json.dumps(data)), True)):\n",
    "                    print (\"Login success!\")\n",
    "                    self.isLoggedIn = True\n",
    "                    self.username_id = self.LastJson[\"logged_in_user\"][\"pk\"]\n",
    "                    print (self.username_id)\n",
    "                    self.rank_token = \"%s_%s\" % (self.username_id, self.uuid)\n",
    "                    self.token = self.LastResponse.cookies[\"csrftoken\"]\n",
    "\n",
    "                    self.syncFeatures()\n",
    "                    self.autoCompleteUserList()\n",
    "                    self.timelineFeed()\n",
    "                    self.getv2Inbox()\n",
    "                    self.getRecentActivity()\n",
    "\n",
    "                    return True;\n",
    "\n",
    "    def tagFeed(self, tag):\n",
    "        userFeed = self.SendRequest(\"feed/tag/\"+ tag +\"/?rank_token=\" + self.rank_token + \"&ranked_content=true&\")\n",
    "        # TODO Instagram.php 1000-1015\n",
    "        return userFeed\n",
    "\n",
    "    def like(self, mediaId):\n",
    "        data = json.dumps({\n",
    "        '_uuid'         : self.uuid,\n",
    "        '_uid'          : self.username_id,\n",
    "        '_csrftoken'    : self.token,\n",
    "        'media_id'      : mediaId\n",
    "        })\n",
    "\n",
    "        return self.SendRequest(\"media/\"+ str(mediaId) +\"/like/\", self.generateSignature(data))\n",
    "\n",
    "    def SendRequest(self, endpoint, post = None, login = False):\n",
    "        if (not self.isLoggedIn and not login):\n",
    "            raise Exception(\"Not logged in!\\n\")\n",
    "            return;\n",
    "\n",
    "        self.s.headers.update ({'Connection' : 'close',\n",
    "                                'Accept' : '*/*',\n",
    "                                'Content-type' : 'application/x-www-form-urlencoded; charset=UTF-8',\n",
    "                                'Cookie2' : '$Version=1',\n",
    "                                'Accept-Language' : 'en-US',\n",
    "                                'User-Agent' : self.USER_AGENT})\n",
    "\n",
    "        if (post != None): # POST\n",
    "            response = self.s.post(self.API_URL + endpoint, data=post) # , verify=False\n",
    "        else: # GET\n",
    "            response = self.s.get(self.API_URL + endpoint) # , verify=False\n",
    "\n",
    "        if response.status_code == 200:\n",
    "            self.LastResponse = response\n",
    "            self.LastJson = json.loads(response.text)\n",
    "            return True\n",
    "        else:\n",
    "            print (\"Request return \" + str(response.status_code) + \" error!\")\n",
    "            return False\n",
    "\n",
    "    def generateUUID(self, type):\n",
    "        uuid = '%04x%04x-%04x-%04x-%04x-%04x%04x%04x' % (random.randint(0, 0xffff),\n",
    "               random.randint(0, 0xffff), random.randint(0, 0xffff),\n",
    "               random.randint(0, 0x0fff) | 0x4000,\n",
    "               random.randint(0, 0x3fff) | 0x8000,\n",
    "               random.randint(0, 0xffff), random.randint(0, 0xffff),\n",
    "               random.randint(0, 0xffff))\n",
    "        if (type):\n",
    "            return uuid\n",
    "        else:\n",
    "            return uuid.replace('-', '')\n",
    "\n",
    "    def generateDeviceId(self, seed):\n",
    "        volatile_seed = \"12345\"\n",
    "        m = hashlib.md5()\n",
    "        m.update(seed.encode('utf-8') + volatile_seed.encode('utf-8'))\n",
    "        return 'android-' + m.hexdigest()[:16]\n",
    "\n",
    "    def generateSignature(self, data):\n",
    "        return 'ig_sig_key_version=' + self.SIG_KEY_VERSION + '&signed_body=' + hmac.new(self.IG_SIG_KEY.encode('utf-8'), data.encode('utf-8'), hashlib.sha256).hexdigest() + '.' + urllib.parse.quote(data)\n",
    "\n",
    "    def syncFeatures(self):\n",
    "        data = json.dumps({\n",
    "        '_uuid'         : self.uuid,\n",
    "        '_uid'          : self.username_id,\n",
    "        'id'            : self.username_id,\n",
    "        '_csrftoken'    : self.token,\n",
    "        'experiments'   : self.EXPERIMENTS\n",
    "        })\n",
    "        return self.SendRequest('qe/sync/', self.generateSignature(data))\n",
    "\n",
    "    def autoCompleteUserList(self):\n",
    "        return self.SendRequest('friendships/autocomplete_user_list/')\n",
    "\n",
    "    def timelineFeed(self):\n",
    "        return self.SendRequest('feed/timeline/')\n",
    "\n",
    "    def megaphoneLog(self):\n",
    "        return self.SendRequest('megaphone/log/')\n",
    "\n",
    "    def expose(self):\n",
    "        data = json.dumps({\n",
    "        '_uuid'        : self.uuid,\n",
    "        '_uid'         : self.username_id,\n",
    "        'id'           : self.username_id,\n",
    "        '_csrftoken'   : self.token,\n",
    "        'experiment'   : 'ig_android_profile_contextual_feed'\n",
    "        })\n",
    "        return self.SendRequest('qe/expose/', self.generateSignature(data))\n",
    "\n",
    "    def logout(self):\n",
    "        logout = self.SendRequest('accounts/logout/')\n",
    "        # TODO Instagram.php 180-185\n",
    "\n",
    "    def uploadPhoto(self, photo, caption = None, upload_id = None):\n",
    "        # TODO Instagram.php 200-290\n",
    "        return False\n",
    "\n",
    "    def uploadVideo(self, video, caption = None):\n",
    "        # TODO Instagram.php 290-415\n",
    "        return False\n",
    "\n",
    "    def direct_share(self, media_id, recipients, text = None):\n",
    "        # TODO Instagram.php 420-490\n",
    "        return False\n",
    "\n",
    "    def configureVideo(upload_id, video, caption = ''):\n",
    "        # TODO Instagram.php 490-530\n",
    "        return False\n",
    "\n",
    "    def configure(upload_id, photo, caption = ''):\n",
    "        # TODO Instagram.php 530-570\n",
    "        return False\n",
    "\n",
    "    def editMedia(self, mediaId, captionText = ''):\n",
    "        data = json.dumps({\n",
    "        '_uuid'        : self.uuid,\n",
    "        '_uid'         : self.username_id,\n",
    "        '_csrftoken'   : self.token,\n",
    "        'caption_text' : captionText\n",
    "        })\n",
    "        return self.SendRequest(\"media/\"+ str(mediaId) +\"/edit_media/\", self.generateSignature(data))\n",
    "\n",
    "    def removeSelftag(self, mediaId):\n",
    "        data = json.dumps({\n",
    "        '_uuid'        : self.uuid,\n",
    "        '_uid'         : self.username_id,\n",
    "        '_csrftoken'   : self.token\n",
    "        })\n",
    "        return self.SendRequest(\"media/\"+ str(mediaId) +\"/remove/\", self.generateSignature(data))\n",
    "\n",
    "    def mediaInfo(self, mediaId):\n",
    "        data = json.dumps({\n",
    "        '_uuid'        : self.uuid,\n",
    "        '_uid'         : self.username_id,\n",
    "        '_csrftoken'   : self.token,\n",
    "        'media_id'     : mediaId\n",
    "        })\n",
    "        return self.SendRequest(\"media/\"+ str(mediaId) +\"/info/\", self.generateSignature(data))\n",
    "\n",
    "    def deleteMedia(self, mediaId):\n",
    "        data = json.dumps({\n",
    "        '_uuid'        : self.uuid,\n",
    "        '_uid'         : self.username_id,\n",
    "        '_csrftoken'   : self.token,\n",
    "        'media_id'     : mediaId\n",
    "        })\n",
    "        return self.SendRequest(\"media/\"+ str(mediaId) +\"/delete/\", self.generateSignature(data))\n",
    "\n",
    "    def comment(self, mediaId, commentText):\n",
    "        data = json.dumps({\n",
    "        '_uuid'        : self.uuid,\n",
    "        '_uid'         : self.username_id,\n",
    "        '_csrftoken'   : self.token,\n",
    "        'comment_text' : commentText\n",
    "        })\n",
    "        return self.SendRequest(\"media/\"+ str(mediaId) +\"/comment/\", self.generateSignature(data))\n",
    "\n",
    "    def deleteComment(self, mediaId, captionText, commentId):\n",
    "        data = json.dumps({\n",
    "        '_uuid'        : self.uuid,\n",
    "        '_uid'         : self.username_id,\n",
    "        '_csrftoken'   : self.token,\n",
    "        'caption_text' : captionText\n",
    "        })\n",
    "        return self.SendRequest(\"media/\"+ str(mediaId) +\"/comment/\"+ str(commentId) +\"/delete/\", self.generateSignature(data))\n",
    "\n",
    "    def changeProfilePicture(photo):\n",
    "        # TODO Instagram.php 705-775\n",
    "        return False\n",
    "\n",
    "    def getv2Inbox(self):\n",
    "        inbox = self.SendRequest('direct_v2/inbox/?')\n",
    "        # TODO Instagram.php 950-960\n",
    "        return inbox\n",
    "\n",
    "    def getRecentActivity(self):\n",
    "        activity = self.SendRequest('news/inbox/?')\n",
    "        # TODO Instagram.php 911-925\n",
    "        return activity\n",
    "\n",
    "InstagramAPI = InstagramAPI(\"login\", \"password\")\n",
    "InstagramAPI.login() # login\n",
    "InstagramAPI.tagFeed(\"ootd\") # get media list by tag #cat\n",
    "media_id = InstagramAPI.LastJson[\"ranked_items\"][0][\"pk\"] # media id of first media\n",
    "InstagramAPI.like(media_id) # like first media"
   ]
  },
  {
   "cell_type": "code",
   "execution_count": null,
   "id": "fc688558",
   "metadata": {},
   "outputs": [],
   "source": []
  },
  {
   "cell_type": "code",
   "execution_count": null,
   "id": "851c01b5",
   "metadata": {},
   "outputs": [],
   "source": []
  },
  {
   "cell_type": "code",
   "execution_count": null,
   "id": "811e185d",
   "metadata": {},
   "outputs": [],
   "source": []
  },
  {
   "cell_type": "code",
   "execution_count": null,
   "id": "fdd9a159",
   "metadata": {},
   "outputs": [],
   "source": []
  },
  {
   "cell_type": "code",
   "execution_count": null,
   "id": "c07a9289",
   "metadata": {},
   "outputs": [],
   "source": []
  },
  {
   "cell_type": "code",
   "execution_count": null,
   "id": "470c5aa4",
   "metadata": {},
   "outputs": [],
   "source": []
  },
  {
   "cell_type": "code",
   "execution_count": null,
   "id": "20a2f972",
   "metadata": {},
   "outputs": [],
   "source": []
  },
  {
   "cell_type": "code",
   "execution_count": null,
   "id": "1329f9ba",
   "metadata": {},
   "outputs": [],
   "source": []
  },
  {
   "cell_type": "code",
   "execution_count": null,
   "id": "de9513d9",
   "metadata": {},
   "outputs": [],
   "source": []
  },
  {
   "cell_type": "code",
   "execution_count": null,
   "id": "58d4c7ce",
   "metadata": {},
   "outputs": [],
   "source": []
  },
  {
   "cell_type": "code",
   "execution_count": null,
   "id": "bc4f687d",
   "metadata": {},
   "outputs": [],
   "source": []
  },
  {
   "cell_type": "code",
   "execution_count": null,
   "id": "661e8f8c",
   "metadata": {},
   "outputs": [],
   "source": []
  }
 ],
 "metadata": {
  "kernelspec": {
   "display_name": "Python 3 (ipykernel)",
   "language": "python",
   "name": "python3"
  },
  "language_info": {
   "codemirror_mode": {
    "name": "ipython",
    "version": 3
   },
   "file_extension": ".py",
   "mimetype": "text/x-python",
   "name": "python",
   "nbconvert_exporter": "python",
   "pygments_lexer": "ipython3",
   "version": "3.7.13"
  }
 },
 "nbformat": 4,
 "nbformat_minor": 5
}
